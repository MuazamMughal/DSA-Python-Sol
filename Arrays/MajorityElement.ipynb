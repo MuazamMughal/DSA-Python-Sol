{
 "cells": [
  {
   "cell_type": "markdown",
   "metadata": {},
   "source": [
    "## problem statment\n",
    "Given an array nums of size n, return the majority element.\n",
    "\n",
    "The majority element is the element that appears more than ⌊n / 2⌋ times. You may assume that the majority element always exists in the array.\n",
    "\n",
    " \n",
    "\n",
    "Example 1:\n",
    "\n",
    "Input: nums = [3,2,3]\n",
    "Output: 3\n",
    "Example 2:\n",
    "\n",
    "Input: nums = [2,2,1,1,1,2,2]\n",
    "Output: 2"
   ]
  },
  {
   "cell_type": "markdown",
   "metadata": {},
   "source": [
    "## Best Approch\n",
    "Problem Statement:\n",
    "Given an array nums of size n, find the majority element, which is the element that appears more than ⌊n / 2⌋ times.\n",
    "Example:\n",
    "\n",
    "nums = [3, 2, 3] → Majority element is 3 (appears 2 times, and 2 > ⌊3/2⌋ = 1).\n",
    "\n",
    "nums = [2, 2, 1, 1, 1, 2, 2] → Majority element is 2 (appears 4 times, and 4 > ⌊7/2⌋ = 3).\n",
    "\n",
    "Why Boyer-Moore Voting Algorithm Works?\n",
    "The algorithm works because the majority element cancels out all other elements and still remains at the end.\n",
    "\n",
    "Key Intuition:\n",
    "Majority element appears more than half the time, so even if other elements try to \"cancel\" it, it will still dominate.\n",
    "\n",
    "Think of it like votes:\n",
    "\n",
    "If a candidate (current_num) is the same as our candidate, we increase their vote count.\n",
    "\n",
    "If not, we decrease their vote count.\n",
    "\n",
    "If votes reach 0, we switch candidates (since the current candidate cannot be the majority).\n"
   ]
  },
  {
   "cell_type": "code",
   "execution_count": 1,
   "metadata": {},
   "outputs": [
    {
     "name": "stdout",
     "output_type": "stream",
     "text": [
      "2\n"
     ]
    }
   ],
   "source": [
    "from typing import List\n",
    "\n",
    "class Solution:\n",
    "    def majorityElement(self, nums: List[int]) -> int:\n",
    "        candidate = None  # Fixed spelling\n",
    "        count = 0  # Fixed assignment operator\n",
    "\n",
    "        for num in nums:\n",
    "            if count == 0:\n",
    "                candidate = num\n",
    "            count += (1 if num == candidate else -1)\n",
    "        \n",
    "        return candidate  # Moved outside the loop\n",
    "\n",
    "nums = [2, 2, 1, 1, 1, 2, 2]\n",
    "result = Solution().majorityElement(nums)  # Fixed function call\n",
    "print(result)  # Output: 2"
   ]
  },
  {
   "cell_type": "markdown",
   "metadata": {},
   "source": [
    "## Explaination\n",
    "\n",
    "Step-by-Step Explanation with Example\n",
    "Example: nums = [2, 2, 1, 1, 1, 2, 2]\n",
    "Initialize:\n",
    "\n",
    "candidate = None\n",
    "\n",
    "count = 0\n",
    "\n",
    "Loop through each number:\n",
    "\n",
    "First 2:\n",
    "\n",
    "count == 0 → Set candidate = 2\n",
    "\n",
    "count becomes 1 (2 == 2 → +1)\n",
    "\n",
    "State: candidate = 2, count = 1\n",
    "\n",
    "Second 2:\n",
    "\n",
    "2 == 2 → count increases to 2\n",
    "\n",
    "State: candidate = 2, count = 2\n",
    "\n",
    "First 1:\n",
    "\n",
    "1 != 2 → count decreases to 1\n",
    "\n",
    "State: candidate = 2, count = 1\n",
    "\n",
    "Second 1:\n",
    "\n",
    "1 != 2 → count decreases to 0\n",
    "\n",
    "State: candidate = 2, count = 0\n",
    "\n",
    "Third 1:\n",
    "\n",
    "count == 0 → Set candidate = 1\n",
    "\n",
    "count becomes 1 (1 == 1 → +1)\n",
    "\n",
    "State: candidate = 1, count = 1\n",
    "\n",
    "Third 2:\n",
    "\n",
    "2 != 1 → count decreases to 0\n",
    "\n",
    "State: candidate = 1, count = 0\n",
    "\n",
    "Fourth 2:\n",
    "\n",
    "count == 0 → Set candidate = 2\n",
    "\n",
    "count becomes 1 (2 == 2 → +1)\n",
    "\n",
    "State: candidate = 2, count = 1\n",
    "\n",
    "Final Result:\n",
    "\n",
    "The last candidate is 2, which is the majority element."
   ]
  },
  {
   "cell_type": "markdown",
   "metadata": {},
   "source": []
  }
 ],
 "metadata": {
  "kernelspec": {
   "display_name": "base",
   "language": "python",
   "name": "python3"
  },
  "language_info": {
   "codemirror_mode": {
    "name": "ipython",
    "version": 3
   },
   "file_extension": ".py",
   "mimetype": "text/x-python",
   "name": "python",
   "nbconvert_exporter": "python",
   "pygments_lexer": "ipython3",
   "version": "3.11.8"
  }
 },
 "nbformat": 4,
 "nbformat_minor": 2
}
