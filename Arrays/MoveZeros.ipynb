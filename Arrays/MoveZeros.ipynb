{
 "cells": [
  {
   "cell_type": "markdown",
   "metadata": {},
   "source": [
    "# MoveZeros\n",
    "\n",
    "Given an integer array nums, move all 0's to the end of it while maintaining the relative order of the non-zero elements.\n",
    "\n",
    "Note that you must do this in-place without making a copy of the array.\n",
    "\n",
    " \n",
    "\n",
    "Example 1:\n",
    "\n",
    "Input: nums = [0,1,0,3,12]\n",
    "Output: [1,3,12,0,0]"
   ]
  },
  {
   "cell_type": "code",
   "execution_count": 2,
   "metadata": {},
   "outputs": [
    {
     "name": "stdout",
     "output_type": "stream",
     "text": [
      "[1, 3, 12, 0, 0]\n"
     ]
    }
   ],
   "source": [
    "from typing import List\n",
    "\n",
    "class Solution:\n",
    "    def moveZeroes(self, nums: List[int]) -> None:\n",
    "       left = 0 \n",
    "       for right in range(len(nums)):\n",
    "        if nums[right]!= 0:\n",
    "            nums[left] , nums[right] = nums[right] , nums[left]\n",
    "            left+=1\n",
    "\n",
    "nums = [0, 1, 0, 3, 12]\n",
    "Solution().moveZeroes(nums)\n",
    "print(nums)"
   ]
  },
  {
   "cell_type": "markdown",
   "metadata": {},
   "source": [
    "# BEST APPROCH & Learning\n",
    "\n",
    "Optimal Approach: Two-Pointer (In-Place)\n",
    "Time Complexity: O(n) (Single pass through the array)\n",
    "\n",
    "Space Complexity: O(1) (No extra space used, modification done in-place)\n",
    "\n",
    "Key Idea:\n",
    "\n",
    "Use a slow (or left) pointer to track the position where the next non-zero element should be placed.\n",
    "\n",
    "Traverse the array with a fast (or right) pointer.\n",
    "\n",
    "Whenever a non-zero is found, swap it with the slow pointer's position and increment slow.\n",
    "\n",
    "## Solution sequence\n",
    "\n",
    "Initialization:\n",
    "\n",
    "slow = 0 (keeps track of the position for the next non-zero element).\n",
    "\n",
    "Loop with fast pointer:\n",
    "\n",
    "If nums[fast] != 0, swap nums[slow] and nums[fast] and increment slow.\n",
    "\n",
    "This ensures all non-zero elements are moved to the front in their original order.\n",
    "\n",
    "Result:\n",
    "\n",
    "After the loop, all zeros are shifted to the end."
   ]
  },
  {
   "cell_type": "markdown",
   "metadata": {},
   "source": []
  }
 ],
 "metadata": {
  "kernelspec": {
   "display_name": "base",
   "language": "python",
   "name": "python3"
  },
  "language_info": {
   "codemirror_mode": {
    "name": "ipython",
    "version": 3
   },
   "file_extension": ".py",
   "mimetype": "text/x-python",
   "name": "python",
   "nbconvert_exporter": "python",
   "pygments_lexer": "ipython3",
   "version": "3.11.8"
  }
 },
 "nbformat": 4,
 "nbformat_minor": 2
}
